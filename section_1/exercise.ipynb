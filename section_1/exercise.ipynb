{
  "nbformat": 4,
  "nbformat_minor": 0,
  "metadata": {
    "colab": {
      "name": "exercise.ipynb",
      "provenance": [],
      "include_colab_link": true
    },
    "kernelspec": {
      "name": "python3",
      "display_name": "Python 3"
    }
  },
  "cells": [
    {
      "cell_type": "markdown",
      "metadata": {
        "id": "view-in-github",
        "colab_type": "text"
      },
      "source": [
        "<a href=\"https://colab.research.google.com/github/tsukasaokuda/minnnanoAi/blob/main/section_1/exercise.ipynb\" target=\"_parent\"><img src=\"https://colab.research.google.com/assets/colab-badge.svg\" alt=\"Open In Colab\"/></a>"
      ]
    },
    {
      "cell_type": "markdown",
      "metadata": {
        "id": "z8g5FUr1BPri"
      },
      "source": [
        "# 演習\n",
        "Pythonを学ぶ前に、Google Colaboratoryの使い方に慣れておきましょう。  \n",
        "このノートブックで、以下のセルの操作を行ってみましょう。  \n",
        "\n",
        "* コードセルの作成\n",
        "* コードセルにPythonのコードを記述し、「Hello World!」と表示\n",
        "* コードセルに足し算のコードを記述し、結果を表示\n",
        "* テキストセルの作成\n",
        "* テキストセルに文章を記述\n",
        "* テキストセルで文章を改行\n",
        "* テキストセルにリストを記述\n",
        "* セルの上下の入れ替え\n",
        "* セルの消去"
      ]
    },
    {
      "cell_type": "code",
      "source": [
        "print(\"hello world\")"
      ],
      "metadata": {
        "id": "NOrH3SUopR5-",
        "outputId": "5e01d198-e495-4e5f-9669-820baa3c9ba1",
        "colab": {
          "base_uri": "https://localhost:8080/"
        }
      },
      "execution_count": 1,
      "outputs": [
        {
          "output_type": "stream",
          "name": "stdout",
          "text": [
            "hello world\n"
          ]
        }
      ]
    },
    {
      "cell_type": "markdown",
      "source": [
        "私は奥田りです。  \n",
        "今日は寒いですね。\n",
        "\n",
        "1.   りんご\n",
        "2.   みかん"
      ],
      "metadata": {
        "id": "TX26xHRRp1Jj"
      }
    },
    {
      "cell_type": "code",
      "source": [
        "a=6\n",
        "b=5\n",
        "\n",
        "a+b"
      ],
      "metadata": {
        "id": "cgXUnXOlpeKX",
        "outputId": "2cef1a53-d6d7-4c01-fb9e-209dc3f6e891",
        "colab": {
          "base_uri": "https://localhost:8080/"
        }
      },
      "execution_count": 2,
      "outputs": [
        {
          "output_type": "execute_result",
          "data": {
            "text/plain": [
              "11"
            ]
          },
          "metadata": {},
          "execution_count": 2
        }
      ]
    },
    {
      "cell_type": "code",
      "source": [],
      "metadata": {
        "id": "U5KWWQl6px0I"
      },
      "execution_count": null,
      "outputs": []
    }
  ]
}